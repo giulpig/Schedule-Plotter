{
 "cells": [
  {
   "cell_type": "code",
   "execution_count": 5,
   "id": "eeec4279",
   "metadata": {},
   "outputs": [],
   "source": [
    "from schedule_plotter.Process import Process\n",
    "from schedule_plotter.plot_tools import plot\n",
    "\n",
    "from schedule_plotter.implementations.FCFS import FCFS\n",
    "from schedule_plotter.implementations.SJF import SPN, SRT\n",
    "from schedule_plotter.implementations.RoundRobin import RoundRobin"
   ]
  },
  {
   "cell_type": "code",
   "execution_count": 6,
   "id": "b5466d26",
   "metadata": {},
   "outputs": [],
   "source": [
    "# Generate data from either csv or random-generated\n",
    "dataset = Process.gen_n_random_in_range(9, (0,1), (1, 3), (1,20))\n",
    "dataset = Process.read_from_csv(\"example/input.csv\")"
   ]
  },
  {
   "cell_type": "code",
   "execution_count": 7,
   "id": "544f061f",
   "metadata": {},
   "outputs": [
    {
     "name": "stdout",
     "output_type": "stream",
     "text": [
      "Plotting FirstComeFirstServed algorithm\n",
      "\n"
     ]
    }
   ],
   "source": [
    "# Set matplotlib backend to inline for non interactive plotting\n",
    "%matplotlib inline\n",
    "\n",
    "# Plot FCFS using test funciton\n",
    "plot(RoundRobin, dataset, interactive=False)\n"
   ]
  },
  {
   "cell_type": "code",
   "execution_count": 4,
   "id": "d90a3fb4",
   "metadata": {},
   "outputs": [
    {
     "name": "stdout",
     "output_type": "stream",
     "text": [
      "Plotting RoundRobin algorithm\n",
      "\n"
     ]
    },
    {
     "data": {
      "image/png": "[encoded data removed]",
      "text/plain": [
       "<Figure size 432x288 with 1 Axes>"
      ]
     },
     "metadata": {
      "needs_background": "light"
     },
     "output_type": "display_data"
    }
   ],
   "source": [
    "# Set matplotlib backed to qt for interaction\n",
    "%matplotlib qt\n",
    "\n",
    "# Plot FCFS using test funciton\n",
    "plot(FCFS, dataset, interactive=True)"
   ]
  }
 ],
 "metadata": {
  "kernelspec": {
   "display_name": "Python 3 (ipykernel)",
   "language": "python",
   "name": "python3"
  },
  "language_info": {
   "codemirror_mode": {
    "name": "ipython",
    "version": 3
   },
   "file_extension": ".py",
   "mimetype": "text/x-python",
   "name": "python",
   "nbconvert_exporter": "python",
   "pygments_lexer": "ipython3",
   "version": "3.10.4"
  }
 },
 "nbformat": 4,
 "nbformat_minor": 5
}
