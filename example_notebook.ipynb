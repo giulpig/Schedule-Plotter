{
 "cells": [
  {
   "cell_type": "code",
   "execution_count": 2,
   "id": "9258090b",
   "metadata": {},
   "outputs": [],
   "source": [
    "# Add better support for matplotlib\n",
    "%matplotlib inline"
   ]
  },
  {
   "cell_type": "code",
   "execution_count": 3,
   "id": "eeec4279",
   "metadata": {},
   "outputs": [],
   "source": [
    "from schedule_plotter.Process import Process\n",
    "from schedule_plotter.plot_tools import plot_raw_data, plot\n",
    "\n",
    "from schedule_plotter.implementations.FCFS import FCFS\n",
    "from schedule_plotter.implementations.SJF import SPN, SRT\n",
    "from schedule_plotter.implementations.RoundRobin import RoundRobin\n",
    "\n",
    "# You can find this implementation at the bottom of this notebook\n",
    "#from schedule_plotter.implementations.RoundRobin import RoundRobin"
   ]
  },
  {
   "cell_type": "code",
   "execution_count": 4,
   "id": "b5466d26",
   "metadata": {},
   "outputs": [],
   "source": [
    "# Generate data from either csv or random-generated\n",
    "dataset = Process.gen_n_random_in_range(9, (0,1), (1, 3), (1,20))\n",
    "dataset = Process.read_from_csv(\"example/input.csv\")"
   ]
  },
  {
   "cell_type": "code",
   "execution_count": 5,
   "id": "544f061f",
   "metadata": {},
   "outputs": [
    {
     "name": "stdout",
     "output_type": "stream",
     "text": [
      "Plotting FirstComeFirstServed algorithm\n",
      "Average wait time is 14.166666666666666\n"
     ]
    },
    {
     "data": {
      "image/png": "[encoded data removed]",
      "text/plain": [
       "<Figure size 432x288 with 1 Axes>"
      ]
     },
     "metadata": {
      "needs_background": "light"
     },
     "output_type": "display_data"
    }
   ],
   "source": [
    "# Plot FCFS using test funciton\n",
    "plot(FCFS, dataset)"
   ]
  },
  {
   "cell_type": "code",
   "execution_count": 6,
   "id": "58db62f2",
   "metadata": {},
   "outputs": [
    {
     "name": "stdout",
     "output_type": "stream",
     "text": [
      "Plotting ShortestProcessNext algorithm\n",
      "Average wait time is 6.333333333333333\n"
     ]
    },
    {
     "data": {
      "image/png": "[encoded data removed]",
      "text/plain": [
       "<Figure size 432x288 with 1 Axes>"
      ]
     },
     "metadata": {
      "needs_background": "light"
     },
     "output_type": "display_data"
    },
    {
     "name": "stdout",
     "output_type": "stream",
     "text": [
      "\n"
     ]
    }
   ],
   "source": [
    "# Direct plotting of SPN\n",
    "print(f\"Plotting {SPN.name} algorithm\")\n",
    "scheduled_data = SPN.function(dataset)\n",
    "plot_raw_data(SPN.name, scheduled_data)\n",
    "print()"
   ]
  },
  {
   "cell_type": "code",
   "execution_count": 7,
   "id": "5395cf23",
   "metadata": {},
   "outputs": [],
   "source": [
    "# -*- coding: utf-8 -*-\n",
    "\"\"\"\n",
    "    RoundRobin.py\n",
    "    Implementation of the RoundRobin scheduling algorithm\n",
    "    using the schedule_plotter packcage\n",
    "\"\"\"\n",
    "\n",
    "__author__ = \"giulpig\"\n",
    "__license__ = \"GPLv3\"\n",
    "\n",
    "from copy import deepcopy\n",
    "from typing import Dict, List, Tuple\n",
    "\n",
    "from schedule_plotter.Algorithm import Algorithm\n",
    "from schedule_plotter.Process import Process\n",
    "from schedule_plotter.PriorityQueueWrapper import PriorityQueueWrapper\n",
    "\n",
    "# See interface in Algoritm class\n",
    "def run(processes: List[Process], interaction: bool = False, quantum: int = 1) -> Dict[str, List[Tuple[int, int]]]:\n",
    "    out = {}\n",
    "    time_now = 0\n",
    "    wait_time = 0\n",
    "\n",
    "    processes_copy = deepcopy(processes)\n",
    "\n",
    "    # FIFO queue\n",
    "    ready_queue = PriorityQueueWrapper(sortBy=\"FIFO\")\n",
    "\n",
    "    while len(processes_copy)>0 or len(ready_queue)>0:\n",
    "        \n",
    "        # Insert new processes in queue\n",
    "        while True:\n",
    "            for proc in processes_copy[:]:\n",
    "                if proc.start <= time_now:\n",
    "                    ready_queue.put(proc)\n",
    "                    processes_copy.remove(proc)\n",
    "\n",
    "            if len(ready_queue) > 0:\n",
    "                break\n",
    "            \n",
    "            time_now += 1\n",
    "\n",
    "        # Get the process\n",
    "        process = ready_queue.pop()\n",
    "\n",
    "        burst_time = min(quantum, process.remaining_time)\n",
    "\n",
    "        # Run it\n",
    "        if process.id in out.keys():\n",
    "            out[process.id].append((time_now, time_now+burst_time))\n",
    "        else:\n",
    "            out[process.id] = [(time_now, time_now+burst_time)]\n",
    "\n",
    "        time_now += burst_time\n",
    "\n",
    "        # Re-insert it if it is not finished\n",
    "        process.remaining_time -= burst_time\n",
    "        if process.remaining_time > 0:\n",
    "            processes_copy.append(process)\n",
    "        else:\n",
    "            wait_time += time_now-process.start-process.duration\n",
    "\n",
    "\n",
    "    print(f\"Average wait time is {wait_time/len(processes)}\")\n",
    "\n",
    "    return out\n",
    "    \n",
    "\n",
    "RoundRobin = Algorithm(\"RoundRobin\", run)"
   ]
  },
  {
   "cell_type": "code",
   "execution_count": 8,
   "id": "f0e3add7",
   "metadata": {},
   "outputs": [
    {
     "name": "stdout",
     "output_type": "stream",
     "text": [
      "Plotting RoundRobin algorithm\n",
      "Average wait time is 12.666666666666666\n"
     ]
    },
    {
     "data": {
      "image/png": "[encoded data removed]",
      "text/plain": [
       "<Figure size 432x288 with 1 Axes>"
      ]
     },
     "metadata": {
      "needs_background": "light"
     },
     "output_type": "display_data"
    }
   ],
   "source": [
    "# Testing RoundRobin alorithm\n",
    "plot(RoundRobin, dataset)"
   ]
  }
 ],
 "metadata": {
  "kernelspec": {
   "display_name": "Python 3 (ipykernel)",
   "language": "python",
   "name": "python3"
  },
  "language_info": {
   "codemirror_mode": {
    "name": "ipython",
    "version": 3
   },
   "file_extension": ".py",
   "mimetype": "text/x-python",
   "name": "python",
   "nbconvert_exporter": "python",
   "pygments_lexer": "ipython3",
   "version": "3.10.4"
  }
 },
 "nbformat": 4,
 "nbformat_minor": 5
}
